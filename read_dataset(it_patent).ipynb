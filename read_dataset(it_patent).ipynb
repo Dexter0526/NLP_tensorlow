{
 "cells": [
  {
   "cell_type": "code",
   "execution_count": 2,
   "metadata": {},
   "outputs": [],
   "source": [
    "import pandas as pd\n",
    "import pandas_profiling"
   ]
  },
  {
   "cell_type": "code",
   "execution_count": 3,
   "metadata": {
    "scrolled": true
   },
   "outputs": [
    {
     "name": "stdout",
     "output_type": "stream",
     "text": [
      "There are 1000 rows and 13 columns\n"
     ]
    }
   ],
   "source": [
    "nRowsRead = 1000\n",
    "df1 = pd.read_csv('C:/Users/it/Downloads/dataset/IT_Patent_Dataset.csv', delimiter=',', nrows = nRowsRead)\n",
    "df1.dataframeName = 'IT_Patent_Dataset.csv'\n",
    "nRow, nCol = df1.shape\n",
    "print(f'There are {nRow} rows and {nCol} columns')"
   ]
  },
  {
   "cell_type": "code",
   "execution_count": 6,
   "metadata": {},
   "outputs": [
    {
     "name": "stdout",
     "output_type": "stream",
     "text": [
      "               ID                                                 TI  \\\n",
      "0  EP2000017943-0  Recognition code, particularly for a disk-shap...   \n",
      "\n",
      "                                                  AB  \\\n",
      "0  A recognition code, particularly for a disk-li...   \n",
      "\n",
      "                                               TECHF  \\\n",
      "0  [1] The present invention relates to a recogni...   \n",
      "\n",
      "                                               BACKG  \\\n",
      "0  [2] It is known that identification labels, ad...   \n",
      "\n",
      "                                                SUMM CLMS          ICM  \\\n",
      "0  [5] The aim of the present invention is to ove...  NaN  G06K0019-06   \n",
      "\n",
      "       AY                         IPC  REF                            PA  \\\n",
      "0  2000.0  [G06K0019-06, G06K0007-10]  NaN  [Video System Italia S.r.l.]   \n",
      "\n",
      "                   INV  \n",
      "0  [Tassello  Stefano]  \n"
     ]
    }
   ],
   "source": [
    "print(df1.head(1))"
   ]
  },
  {
   "cell_type": "code",
   "execution_count": 5,
   "metadata": {},
   "outputs": [],
   "source": [
    "pr=df1.profile_report()\n",
    "pr.to_file('./pr_report.html')"
   ]
  },
  {
   "cell_type": "code",
   "execution_count": null,
   "metadata": {},
   "outputs": [],
   "source": []
  },
  {
   "cell_type": "code",
   "execution_count": null,
   "metadata": {},
   "outputs": [],
   "source": []
  },
  {
   "cell_type": "code",
   "execution_count": null,
   "metadata": {},
   "outputs": [],
   "source": []
  },
  {
   "cell_type": "code",
   "execution_count": null,
   "metadata": {},
   "outputs": [],
   "source": []
  }
 ],
 "metadata": {
  "kernelspec": {
   "display_name": "protf",
   "language": "python",
   "name": "protf"
  },
  "language_info": {
   "codemirror_mode": {
    "name": "ipython",
    "version": 3
   },
   "file_extension": ".py",
   "mimetype": "text/x-python",
   "name": "python",
   "nbconvert_exporter": "python",
   "pygments_lexer": "ipython3",
   "version": "3.7.4"
  }
 },
 "nbformat": 4,
 "nbformat_minor": 2
}
